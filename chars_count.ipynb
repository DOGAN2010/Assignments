{
 "cells": [
  {
   "cell_type": "code",
   "execution_count": null,
   "source": [
    "def karakter(liste):\r\n",
    "    sozluk = {}\r\n",
    "    \r\n",
    "    for i in liste:\r\n",
    "        for j in i:\r\n",
    "            if j in sozluk:\r\n",
    "                sozluk[j] += 1\r\n",
    "            else:\r\n",
    "                sozluk[j] = 1\r\n",
    "    return sozluk\r\n",
    "\r\n",
    "\r\n",
    "liste = list(input(\"cümle gir: \"))\r\n",
    "karakter(list(liste))"
   ],
   "outputs": [],
   "metadata": {}
  }
 ],
 "metadata": {
  "orig_nbformat": 4,
  "language_info": {
   "name": "python",
   "version": "3.9.6",
   "mimetype": "text/x-python",
   "codemirror_mode": {
    "name": "ipython",
    "version": 3
   },
   "pygments_lexer": "ipython3",
   "nbconvert_exporter": "python",
   "file_extension": ".py"
  },
  "kernelspec": {
   "name": "python3",
   "display_name": "Python 3.9.6 64-bit"
  },
  "interpreter": {
   "hash": "4f77006a7ea4363e7f455dab2a4eac849c4d183e0f3df07af1fa2c4918595da7"
  }
 },
 "nbformat": 4,
 "nbformat_minor": 2
}