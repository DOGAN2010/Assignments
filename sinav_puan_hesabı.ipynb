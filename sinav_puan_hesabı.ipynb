{
 "cells": [
  {
   "cell_type": "markdown",
   "source": [
    "Vize Notunun %40 ' ı , Final Notunun %60'ını alarak ortalama notu hesaplayan,\r\n",
    "ortalama 50 den büyükse geçti, küçükse \"kaldı\" yazan programı yazdırınız."
   ],
   "metadata": {}
  },
  {
   "cell_type": "code",
   "execution_count": 9,
   "source": [
    "def sınav(vize, final):\r\n",
    "    result = vize*40/100 + final*60/100\r\n",
    "    if result >= 50 :\r\n",
    "        print(\"GEÇTİNİZ puanınız : {}\".format(result))\r\n",
    "    else :\r\n",
    "        print(\"KALDINIZ puanınız : {}\".format(result))\r\n",
    "        \r\n",
    "vize = int(input(\"Lütfen vize puanınızı giriniz : \"))\r\n",
    "final = int(input(\"Lütfen final puanınızı giriniz : \"))  \r\n",
    "sınav(vize, final)"
   ],
   "outputs": [
    {
     "output_type": "stream",
     "name": "stdout",
     "text": [
      "GEÇTİNİZ puanınız : 60.0\n"
     ]
    }
   ],
   "metadata": {}
  }
 ],
 "metadata": {
  "orig_nbformat": 4,
  "language_info": {
   "name": "python",
   "version": "3.9.6",
   "mimetype": "text/x-python",
   "codemirror_mode": {
    "name": "ipython",
    "version": 3
   },
   "pygments_lexer": "ipython3",
   "nbconvert_exporter": "python",
   "file_extension": ".py"
  },
  "kernelspec": {
   "name": "python3",
   "display_name": "Python 3.9.6 64-bit"
  },
  "interpreter": {
   "hash": "4f77006a7ea4363e7f455dab2a4eac849c4d183e0f3df07af1fa2c4918595da7"
  }
 },
 "nbformat": 4,
 "nbformat_minor": 2
}